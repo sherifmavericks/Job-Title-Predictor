{
 "cells": [
  {
   "cell_type": "markdown",
   "metadata": {},
   "source": [
    "### Introduction\n",
    "\n",
    "\n",
    "**Probelm Statement:** Make a classifier which takes in a job description and gives the department name for it.\n",
    "*   Use a neural network model\n",
    "*   Make use of a pre-trained Word Embeddings (example: Word2Vec, GloVe, etc.)\n",
    "*   Calculate the accuracy on a test set (data not used to train the model)\n",
    "\n",
    "**Problem Solving Approach:** \n",
    "_Provide a brief description of steps you followed for solving this problem_\n",
    "1. Understanding the data and different classes to classify jobs into\n",
    "2. Will try to take 75% jobs of each department to train and rest 25% to test\n",
    "3. Output class will be a one hot vector \n",
    "4. Input will be observed attributes of a job description. Will use word2vec or universal sentence encoder to compute embedding of a sentence to feed as an attribute of a job description.\n",
    "5. Starting with a simple 2 layer neural network to see how it performs.\n",
    "6. Tune the network, used relu, apropiate lr and epochs.\n",
    "7. Plan to use word2vec and for whole sentence, averaging them out to get one vector for the complete sentence."
   ]
  },
  {
   "cell_type": "markdown",
   "metadata": {},
   "source": [
    "### Part I: Text Preprocessing\n",
    "\n",
    "_Include all text preprocesing steps like processing of json,csv files & data cleaning in this part._"
   ]
  },
  {
   "cell_type": "markdown",
   "metadata": {},
   "source": [
    "Import neccessary packages in below cell"
   ]
  },
  {
   "cell_type": "code",
   "execution_count": 241,
   "metadata": {
    "scrolled": true
   },
   "outputs": [
    {
     "name": "stdout",
     "output_type": "stream",
     "text": [
      "[u'company_info', u'api_data', u'other_details', u'topbox_information', u'jd_information', u'_id']\n",
      "cmts is engaged in the data entry outsourcing and supply of skilled/semi skilled &amp; unskilled Manpower across the industry spectrum. Our pool of manpower ranges from professionals such as Sales &amp; technical professionals in different categories, IT professionals, aviation sector, technical profiles, engineers, non-technical in-house professionals, administrative profiles, Accountant, HR, Back office, Data Entry Operator etc. Our organization's goal is total clients satisfaction through quality and personalized delivery of each and every service. We therefore exist to cater the need of these prospecting employers/companies since our inception in 2008.\n",
      "company_info\n",
      "api_data\n",
      "other_details\n",
      "topbox_information\n",
      "jd_information\n",
      "_id\n"
     ]
    }
   ],
   "source": [
    "import json\n",
    "with open('data/document_departments.csv') as f:\n",
    "    content = f.readlines()\n",
    "\n",
    "\n",
    "description = {}\n",
    "for i in xrange(1,len(content)):\n",
    "    k = content[i].split(',')[1][:-2].strip()\n",
    "    if k in description.keys():\n",
    "        description[k].append(content[i].split(',')[0])\n",
    "    else:\n",
    "        description[k] = []\n",
    "        description[k].append(content[i].split(',')[0])\n",
    "        \n",
    "with open('data/docs/5922081.json', 'r') as myfile:\n",
    "    data=str(myfile.read())\n",
    "\n",
    "# parse file\n",
    "obj = json.loads(data)\n",
    "print(obj.keys())\n",
    "print(obj['company_info']['Company Description'])\n",
    "for k in obj.keys():\n",
    "    print(k)\n",
    "    if type(obj[k]) == 'dict':\n",
    "        print(obj[k].keys())\n",
    "    "
   ]
  },
  {
   "cell_type": "code",
   "execution_count": 242,
   "metadata": {},
   "outputs": [],
   "source": [
    "import gensim\n",
    "\n",
    "# Load Google's pre-trained Word2Vec model.\n",
    "word_model = gensim.models.KeyedVectors.load_word2vec_format('./models/GoogleNews-vectors-negative300.bin', binary=True)  "
   ]
  },
  {
   "cell_type": "code",
   "execution_count": 243,
   "metadata": {},
   "outputs": [
    {
     "name": "stdout",
     "output_type": "stream",
     "text": [
      "[nltk_data] Downloading package punkt to /Users/anshul/nltk_data...\n",
      "[nltk_data]   Package punkt is already up-to-date!\n"
     ]
    },
    {
     "data": {
      "text/plain": [
       "True"
      ]
     },
     "execution_count": 243,
     "metadata": {},
     "output_type": "execute_result"
    }
   ],
   "source": [
    "import nltk\n",
    "nltk.download('punkt')"
   ]
  },
  {
   "cell_type": "code",
   "execution_count": 244,
   "metadata": {},
   "outputs": [],
   "source": [
    "import re\n",
    "import string\n",
    "from nltk.tokenize import word_tokenize\n",
    "from nltk.corpus import stopwords\n",
    "import numpy as np\n",
    "\n",
    "#Resusable functions keeping the problem and preprocessing of text in mind\n",
    "\n",
    "def preprocess(sen):\n",
    "    if sen == \"\":\n",
    "        return \"\"\n",
    "    \n",
    "    if type(sen) is list:\n",
    "        s = \"\"\n",
    "        for word in sen:\n",
    "            s += word + ' '\n",
    "        sen = s[:-1]\n",
    "    sen = sen.replace(\"&nbsp;\", ' ')\n",
    "    sen = sen.replace(\"&amp;\", ' ')\n",
    "    sen = sen.replace('.', ' ')\n",
    "    sen = sen.replace(',', ' ')\n",
    "    sen = sen.lower()\n",
    "    sen = re.sub(r'\\d+', '', sen)\n",
    "    \n",
    "    #sen = sen.translate(string.maketrans('','', string.punctuation))\n",
    "    exclude = set(string.punctuation)\n",
    "    for c in exclude:\n",
    "        sen = sen.replace(c, ' ')\n",
    "    sen = ''.join(ch for ch in sen if ch not in exclude)\n",
    "    sen = sen.strip()\n",
    "    stop_words = set(stopwords.words('english'))\n",
    "    tokens = word_tokenize(sen)\n",
    "    sen = [i for i in tokens if not i in stop_words]\n",
    "    return sen\n",
    "\n",
    "def embed(sen):\n",
    "    \n",
    "    sen = preprocess(sen)\n",
    "    #print(sen)\n",
    "    emm = np.ones(300)/100\n",
    "    em = np.zeros(300)\n",
    "    count = 0\n",
    "    words_not_found = 0\n",
    "    for w in sen:\n",
    "        try:\n",
    "            em += word_model[w]\n",
    "            count+=1\n",
    "        except KeyError:\n",
    "            #print(w, \"Not found\")\n",
    "            words_not_found += 1\n",
    "            continue\n",
    "    \n",
    "    #print(em/count)\n",
    "    if sen == \"\" or count == 0:\n",
    "        return emm\n",
    "    return em/count\n",
    "\n",
    "def get_training_data(obj):\n",
    "    #print obj['jd_information']['description']\n",
    "    data = []\n",
    "    try:\n",
    "        data.append(embed(obj['company_info']['Company Description']))\n",
    "    except KeyError:\n",
    "        data.append(embed(\"\"))\n",
    "    try:\n",
    "        data.append(embed(obj['company_info']['Company Name']))\n",
    "    except KeyError:\n",
    "        data.append(embed(\"\"))\n",
    "    try:\n",
    "        data.append(embed(obj['api_data']['job_keywords']))\n",
    "    except KeyError:\n",
    "        data.append(embed(\"\"))\n",
    "    try:\n",
    "        data.append(embed(obj['api_data']['job_industry']))\n",
    "    except KeyError:\n",
    "        data.append(embed(\"\"))\n",
    "    try:\n",
    "        data.append(embed(obj['api_data']['job_title']))\n",
    "    except KeyError:\n",
    "        data.append(embed(\"\"))\n",
    "    try:\n",
    "        data.append(embed(obj['other_details']['Other Skills:']))\n",
    "    except KeyError:\n",
    "        data.append(embed(\"\"))\n",
    "    try:\n",
    "        data.append(embed(obj['other_details']['Industry:']))\n",
    "    except KeyError:\n",
    "        data.append(embed(\"\"))\n",
    "    try:\n",
    "        data.append(embed(obj['other_details']['Department:']))\n",
    "    except KeyError:\n",
    "        data.append(embed(\"\"))\n",
    "    try:\n",
    "        data.append(embed(obj['jd_information']['description']))\n",
    "    except KeyError:\n",
    "        data.append(embed(\"\"))\n",
    "    \n",
    "    return data\n",
    "    "
   ]
  },
  {
   "cell_type": "code",
   "execution_count": 245,
   "metadata": {},
   "outputs": [],
   "source": [
    "##Constructing data for out model\n",
    "\n",
    "import numpy as np\n",
    "x_train = []\n",
    "x_test = []\n",
    "y_train = []\n",
    "y_test = []\n",
    "# l_train = []\n",
    "# l_test = []\n",
    "key_count = 0\n",
    "\n",
    "for k in description.keys():\n",
    "    output = np.zeros(len(description.keys()))\n",
    "    output[key_count] = 1\n",
    "    label = key_count\n",
    "    key_count = key_count + 1\n",
    "    for i in range(len(description[k])):\n",
    "        with open('data/docs/' + description[k][i] + '.json', 'r') as myfile:\n",
    "            data=str(myfile.read())\n",
    "        obj = json.loads(data)\n",
    "        inp = get_training_data(obj)\n",
    "#         print(inp)\n",
    "#         break\n",
    "#     break\n",
    "        #70% for training\n",
    "        if i < 0.7 * len(description[k]):\n",
    "            \n",
    "            x_train.append(inp)\n",
    "            y_train.append(output)\n",
    "#             l_train.append(label)\n",
    "        #30% for testing\n",
    "        else:\n",
    "            x_test.append(inp)\n",
    "            y_test.append(output)\n",
    "#             l_test.append(label)\n",
    "            "
   ]
  },
  {
   "cell_type": "code",
   "execution_count": 246,
   "metadata": {},
   "outputs": [
    {
     "data": {
      "text/plain": [
       "(827, 335, 9, 300)"
      ]
     },
     "execution_count": 246,
     "metadata": {},
     "output_type": "execute_result"
    }
   ],
   "source": [
    "len(x_train), len(x_test), len(x_train[0]), len(x_train[0][4])"
   ]
  },
  {
   "cell_type": "code",
   "execution_count": 247,
   "metadata": {},
   "outputs": [
    {
     "data": {
      "text/plain": [
       "(827, (9, 300))"
      ]
     },
     "execution_count": 247,
     "metadata": {},
     "output_type": "execute_result"
    }
   ],
   "source": [
    "len(y_train),np.array(x_train[0]).shape"
   ]
  },
  {
   "cell_type": "code",
   "execution_count": 248,
   "metadata": {},
   "outputs": [
    {
     "data": {
      "text/plain": [
       "((827, 9, 300), (827, 31), numpy.float64, numpy.ndarray, (827, 31))"
      ]
     },
     "execution_count": 248,
     "metadata": {},
     "output_type": "execute_result"
    }
   ],
   "source": [
    "from keras.utils import to_categorical\n",
    "x_train = np.array(x_train)\n",
    "y_train = np.array(y_train)\n",
    "x_test = np.array(x_test)\n",
    "y_test = np.array(y_test)\n",
    "# l_trainn = to_categorical(l_train,31)\n",
    "# l_testt = to_categorical(l_test,31)\n",
    "x_train.shape, y_train.shape, type(y_train[0][0]), type(l_trainn),l_trainn.shape"
   ]
  },
  {
   "cell_type": "markdown",
   "metadata": {},
   "source": [
    "### Part II: Exploratoty Data Analysis\n",
    "\n",
    "_Include EDA steps like finding distribution of Departments in this part, you may also use plots for EDA._"
   ]
  },
  {
   "cell_type": "code",
   "execution_count": 249,
   "metadata": {},
   "outputs": [
    {
     "name": "stdout",
     "output_type": "stream",
     "text": [
      "class - 0: count = 106\n",
      "class - 1: count = 243\n",
      "class - 2: count = 9\n",
      "class - 3: count = 27\n",
      "class - 4: count = 13\n",
      "class - 5: count = 5\n",
      "class - 6: count = 1\n",
      "class - 7: count = 20\n",
      "class - 8: count = 7\n",
      "class - 9: count = 2\n",
      "class - 10: count = 30\n",
      "class - 11: count = 7\n",
      "class - 12: count = 49\n",
      "class - 13: count = 5\n",
      "class - 14: count = 2\n",
      "class - 15: count = 3\n",
      "class - 16: count = 4\n",
      "class - 17: count = 14\n",
      "class - 18: count = 3\n",
      "class - 19: count = 1\n",
      "class - 20: count = 1\n",
      "class - 21: count = 29\n",
      "class - 22: count = 2\n",
      "class - 23: count = 1\n",
      "class - 24: count = 2\n",
      "class - 25: count = 189\n",
      "class - 26: count = 2\n",
      "class - 27: count = 5\n",
      "class - 28: count = 35\n",
      "class - 29: count = 3\n",
      "class - 30: count = 7\n"
     ]
    },
    {
     "data": {
      "image/png": "[encoded data removed]",
      "text/plain": [
       "<matplotlib.figure.Figure at 0x1bf55d890>"
      ]
     },
     "metadata": {},
     "output_type": "display_data"
    }
   ],
   "source": [
    "## Distribution of classes in the data\n",
    "\n",
    "output_classes = l_train\n",
    "count = np.zeros(31)\n",
    "for i in range(len(output_classes)):\n",
    "    count[output_classes[i]] += 1\n",
    "for i in range(len(count)):\n",
    "    print('class - ' + str(i) + ': count = '+ str(count[i].astype('int')))\n",
    "import matplotlib.pyplot as plt\n",
    "\n",
    "plt.plot(count) # plotting by columns\n",
    "plt.show()\n"
   ]
  },
  {
   "cell_type": "markdown",
   "metadata": {},
   "source": [
    "### Part III: Modelling & Evaluation\n",
    "\n",
    "_Include all model prepration & evaluation steps in this part._"
   ]
  },
  {
   "cell_type": "code",
   "execution_count": 250,
   "metadata": {},
   "outputs": [],
   "source": [
    "def precision_recall(gt,preds):\n",
    "    TP=0\n",
    "    FP=0\n",
    "    FN=0\n",
    "    for t in gt:\n",
    "        if t in preds:\n",
    "            TP+=1\n",
    "        else:\n",
    "            FN+=1\n",
    "    for p in preds:\n",
    "        if p not in gt:\n",
    "            FP+=1\n",
    "    if TP+FP==0:\n",
    "        precision=0\n",
    "    else:\n",
    "        precision=TP/float(TP+FP)\n",
    "    if TP+FN==0:\n",
    "        recall=0\n",
    "    else:\n",
    "        recall=TP/float(TP+FN)\n",
    "    return precision,recall"
   ]
  },
  {
   "cell_type": "code",
   "execution_count": 251,
   "metadata": {},
   "outputs": [
    {
     "data": {
      "text/plain": [
       "((827, 9, 300), (827, 31), numpy.float64)"
      ]
     },
     "execution_count": 251,
     "metadata": {},
     "output_type": "execute_result"
    }
   ],
   "source": [
    "x_train.shape, y_train.shape, type(y_train[0][0])"
   ]
  },
  {
   "cell_type": "code",
   "execution_count": 252,
   "metadata": {},
   "outputs": [
    {
     "data": {
      "text/plain": [
       "((9, 300),\n",
       " array([1., 0., 0., 0., 0., 0., 0., 0., 0., 0., 0., 0., 0., 0., 0., 0., 0.,\n",
       "        0., 0., 0., 0., 0., 0., 0., 0., 0., 0., 0., 0., 0., 0.]))"
      ]
     },
     "execution_count": 252,
     "metadata": {},
     "output_type": "execute_result"
    }
   ],
   "source": [
    "x_train[0].shape, y_train[0]"
   ]
  },
  {
   "cell_type": "code",
   "execution_count": 253,
   "metadata": {},
   "outputs": [
    {
     "name": "stdout",
     "output_type": "stream",
     "text": [
      "(827, 9, 300)\n",
      "('x_train shape ', (827, 2700))\n",
      "('x_test shape ', (335, 2700))\n",
      "('y_train shape ', (827, 31))\n",
      "('y_test shape ', (335, 31))\n"
     ]
    }
   ],
   "source": [
    "print(x_train.shape)\n",
    "x_r = x_train.reshape(827,2700)\n",
    "xt_r = x_test.reshape(335,2700)\n",
    "for i in range(len(x_r)):\n",
    "    if np.isnan(x_r[i].all()):\n",
    "        print(true)\n",
    "        break\n",
    "\n",
    "print(\"x_train shape \", x_r.shape)\n",
    "print(\"x_test shape \", xt_r.shape)\n",
    "print(\"y_train shape \", y_train.shape)\n",
    "print(\"y_test shape \", y_test.shape)\n"
   ]
  },
  {
   "cell_type": "code",
   "execution_count": 254,
   "metadata": {},
   "outputs": [
    {
     "name": "stderr",
     "output_type": "stream",
     "text": [
      "/anaconda3/envs/deeplearningproject/lib/python2.7/site-packages/ipykernel_launcher.py:7: UserWarning: Update your `Dense` call to the Keras 2 API: `Dense(1240, kernel_regularizer=<keras.reg..., input_shape=(2700,))`\n",
      "  import sys\n",
      "/anaconda3/envs/deeplearningproject/lib/python2.7/site-packages/ipykernel_launcher.py:9: UserWarning: Update your `Dense` call to the Keras 2 API: `Dense(124, kernel_regularizer=<keras.reg...)`\n",
      "  if __name__ == '__main__':\n",
      "/anaconda3/envs/deeplearningproject/lib/python2.7/site-packages/ipykernel_launcher.py:11: UserWarning: Update your `Dense` call to the Keras 2 API: `Dense(31, kernel_regularizer=<keras.reg...)`\n",
      "  # This is added back by InteractiveShellApp.init_path()\n"
     ]
    }
   ],
   "source": [
    "from keras.models import Sequential\n",
    "from keras.layers import Dense, Activation\n",
    "from keras import optimizers\n",
    "from keras.regularizers import l2\n",
    "\n",
    "model = Sequential([\n",
    "    Dense(1240, input_shape=(2700,),  W_regularizer=l2(0.01)),\n",
    "    Activation('relu'),\n",
    "    Dense(124, W_regularizer=l2(0.01)),\n",
    "    Activation('relu'),\n",
    "    Dense(31, W_regularizer=l2(0.01)),\n",
    "    Activation('softmax')\n",
    "])\n",
    "#opt = optimizers.sgd(lr=0.0001, decay=1e-6)\n",
    "opt = optimizers.Adam(lr=0.0001, decay=1e-6)\n",
    "\n",
    "#sgd = optimizers.SGD(lr=0.05, decay=1e-6, momentum=0.4, nesterov=False)\n",
    "model.compile(optimizer=opt,\n",
    "              loss='categorical_crossentropy',\n",
    "              metrics=['accuracy'])"
   ]
  },
  {
   "cell_type": "code",
   "execution_count": 255,
   "metadata": {},
   "outputs": [
    {
     "name": "stdout",
     "output_type": "stream",
     "text": [
      "Epoch 1/100\n",
      "827/827 [==============================] - 2s - loss: 22.2139 - acc: 0.4740     \n",
      "Epoch 2/100\n",
      "827/827 [==============================] - 1s - loss: 20.1031 - acc: 0.6155     \n",
      "Epoch 3/100\n",
      "827/827 [==============================] - 1s - loss: 18.3833 - acc: 0.6385     \n",
      "Epoch 4/100\n",
      "827/827 [==============================] - 1s - loss: 16.9404 - acc: 0.6421     \n",
      "Epoch 5/100\n",
      "827/827 [==============================] - 1s - loss: 15.6385 - acc: 0.6518     \n",
      "Epoch 6/100\n",
      "827/827 [==============================] - 1s - loss: 14.4601 - acc: 0.7304     \n",
      "Epoch 7/100\n",
      "827/827 [==============================] - 1s - loss: 13.3838 - acc: 0.7896     \n",
      "Epoch 8/100\n",
      "827/827 [==============================] - 1s - loss: 12.3978 - acc: 0.8235     \n",
      "Epoch 9/100\n",
      "827/827 [==============================] - 1s - loss: 11.4914 - acc: 0.8392     \n",
      "Epoch 10/100\n",
      "827/827 [==============================] - 1s - loss: 10.6598 - acc: 0.8476     \n",
      "Epoch 11/100\n",
      "827/827 [==============================] - 1s - loss: 9.8947 - acc: 0.8622     \n",
      "Epoch 12/100\n",
      "827/827 [==============================] - 1s - loss: 9.1911 - acc: 0.8670     \n",
      "Epoch 13/100\n",
      "827/827 [==============================] - 0s - loss: 8.5450 - acc: 0.8634     \n",
      "Epoch 14/100\n",
      "827/827 [==============================] - 0s - loss: 7.9508 - acc: 0.8791     \n",
      "Epoch 15/100\n",
      "827/827 [==============================] - 0s - loss: 7.4075 - acc: 0.8803     \n",
      "Epoch 16/100\n",
      "827/827 [==============================] - 0s - loss: 6.9083 - acc: 0.8863     \n",
      "Epoch 17/100\n",
      "827/827 [==============================] - 1s - loss: 6.4504 - acc: 0.8900     \n",
      "Epoch 18/100\n",
      "827/827 [==============================] - 1s - loss: 6.0275 - acc: 0.8936     \n",
      "Epoch 19/100\n",
      "827/827 [==============================] - 1s - loss: 5.6429 - acc: 0.8996     \n",
      "Epoch 20/100\n",
      "827/827 [==============================] - 1s - loss: 5.2883 - acc: 0.9057     \n",
      "Epoch 21/100\n",
      "827/827 [==============================] - 1s - loss: 4.9641 - acc: 0.9093     \n",
      "Epoch 22/100\n",
      "827/827 [==============================] - 1s - loss: 4.6727 - acc: 0.9057     \n",
      "Epoch 23/100\n",
      "827/827 [==============================] - 1s - loss: 4.3985 - acc: 0.9081     \n",
      "Epoch 24/100\n",
      "827/827 [==============================] - 1s - loss: 4.1478 - acc: 0.9129     \n",
      "Epoch 25/100\n",
      "827/827 [==============================] - 1s - loss: 3.9202 - acc: 0.9166     \n",
      "Epoch 26/100\n",
      "827/827 [==============================] - 1s - loss: 3.7137 - acc: 0.9166     \n",
      "Epoch 27/100\n",
      "827/827 [==============================] - 1s - loss: 3.5225 - acc: 0.9202     \n",
      "Epoch 28/100\n",
      "827/827 [==============================] - 1s - loss: 3.3531 - acc: 0.9202     \n",
      "Epoch 29/100\n",
      "827/827 [==============================] - 1s - loss: 3.1908 - acc: 0.9154     \n",
      "Epoch 30/100\n",
      "827/827 [==============================] - 1s - loss: 3.0423 - acc: 0.9226     \n",
      "Epoch 31/100\n",
      "827/827 [==============================] - 1s - loss: 2.9112 - acc: 0.9202     \n",
      "Epoch 32/100\n",
      "827/827 [==============================] - 1s - loss: 2.7872 - acc: 0.9226     \n",
      "Epoch 33/100\n",
      "827/827 [==============================] - 1s - loss: 2.6762 - acc: 0.9214     \n",
      "Epoch 34/100\n",
      "827/827 [==============================] - 1s - loss: 2.5734 - acc: 0.9250     \n",
      "Epoch 35/100\n",
      "827/827 [==============================] - 0s - loss: 2.4813 - acc: 0.9299     \n",
      "Epoch 36/100\n",
      "827/827 [==============================] - 0s - loss: 2.3973 - acc: 0.9250     \n",
      "Epoch 37/100\n",
      "827/827 [==============================] - 0s - loss: 2.3174 - acc: 0.9250     \n",
      "Epoch 38/100\n",
      "827/827 [==============================] - 1s - loss: 2.2450 - acc: 0.9274     \n",
      "Epoch 39/100\n",
      "827/827 [==============================] - 1s - loss: 2.1746 - acc: 0.9335     \n",
      "Epoch 40/100\n",
      "827/827 [==============================] - 1s - loss: 2.1151 - acc: 0.9262     \n",
      "Epoch 41/100\n",
      "827/827 [==============================] - 1s - loss: 2.0576 - acc: 0.9274     \n",
      "Epoch 42/100\n",
      "827/827 [==============================] - 1s - loss: 2.0063 - acc: 0.9287     \n",
      "Epoch 43/100\n",
      "827/827 [==============================] - 1s - loss: 1.9602 - acc: 0.9299     \n",
      "Epoch 44/100\n",
      "827/827 [==============================] - 1s - loss: 1.9167 - acc: 0.9287     \n",
      "Epoch 45/100\n",
      "827/827 [==============================] - 0s - loss: 1.8707 - acc: 0.9262     \n",
      "Epoch 46/100\n",
      "827/827 [==============================] - 0s - loss: 1.8384 - acc: 0.9311     \n",
      "Epoch 47/100\n",
      "827/827 [==============================] - 0s - loss: 1.8013 - acc: 0.9311     \n",
      "Epoch 48/100\n",
      "827/827 [==============================] - 1s - loss: 1.7684 - acc: 0.9299     \n",
      "Epoch 49/100\n",
      "827/827 [==============================] - 1s - loss: 1.7355 - acc: 0.9262     \n",
      "Epoch 50/100\n",
      "827/827 [==============================] - 1s - loss: 1.7131 - acc: 0.9250     \n",
      "Epoch 51/100\n",
      "827/827 [==============================] - 1s - loss: 1.6836 - acc: 0.9323     \n",
      "Epoch 52/100\n",
      "827/827 [==============================] - 1s - loss: 1.6563 - acc: 0.9262     \n",
      "Epoch 53/100\n",
      "827/827 [==============================] - 1s - loss: 1.6342 - acc: 0.9299     \n",
      "Epoch 54/100\n",
      "827/827 [==============================] - 1s - loss: 1.6149 - acc: 0.9311     \n",
      "Epoch 55/100\n",
      "827/827 [==============================] - 1s - loss: 1.5916 - acc: 0.9250     \n",
      "Epoch 56/100\n",
      "827/827 [==============================] - 1s - loss: 1.5747 - acc: 0.9262     \n",
      "Epoch 57/100\n",
      "827/827 [==============================] - 1s - loss: 1.5572 - acc: 0.9287     \n",
      "Epoch 58/100\n",
      "827/827 [==============================] - 1s - loss: 1.5403 - acc: 0.9274     \n",
      "Epoch 59/100\n",
      "827/827 [==============================] - 1s - loss: 1.5230 - acc: 0.9238     \n",
      "Epoch 60/100\n",
      "827/827 [==============================] - 1s - loss: 1.5086 - acc: 0.9262     \n",
      "Epoch 61/100\n",
      "827/827 [==============================] - 1s - loss: 1.4950 - acc: 0.9262     \n",
      "Epoch 62/100\n",
      "827/827 [==============================] - 1s - loss: 1.4813 - acc: 0.9238     \n",
      "Epoch 63/100\n",
      "827/827 [==============================] - 1s - loss: 1.4698 - acc: 0.9238     \n",
      "Epoch 64/100\n",
      "827/827 [==============================] - 1s - loss: 1.4584 - acc: 0.9323     \n",
      "Epoch 65/100\n",
      "827/827 [==============================] - 1s - loss: 1.4444 - acc: 0.9250     \n",
      "Epoch 66/100\n",
      "827/827 [==============================] - 1s - loss: 1.4330 - acc: 0.9274     \n",
      "Epoch 67/100\n",
      "827/827 [==============================] - 1s - loss: 1.4198 - acc: 0.9250     \n",
      "Epoch 68/100\n",
      "827/827 [==============================] - 1s - loss: 1.4102 - acc: 0.9262     \n",
      "Epoch 69/100\n",
      "827/827 [==============================] - 1s - loss: 1.4016 - acc: 0.9274     \n",
      "Epoch 70/100\n",
      "827/827 [==============================] - 1s - loss: 1.3913 - acc: 0.9250     \n",
      "Epoch 71/100\n",
      "827/827 [==============================] - 1s - loss: 1.3815 - acc: 0.9274     \n",
      "Epoch 72/100\n",
      "827/827 [==============================] - 1s - loss: 1.3730 - acc: 0.9214     \n",
      "Epoch 73/100\n",
      "827/827 [==============================] - 1s - loss: 1.3652 - acc: 0.9250     \n",
      "Epoch 74/100\n",
      "827/827 [==============================] - 1s - loss: 1.3564 - acc: 0.9250     \n",
      "Epoch 75/100\n",
      "827/827 [==============================] - 1s - loss: 1.3506 - acc: 0.9250     \n",
      "Epoch 76/100\n",
      "827/827 [==============================] - 1s - loss: 1.3441 - acc: 0.9250     \n",
      "Epoch 77/100\n",
      "827/827 [==============================] - 1s - loss: 1.3359 - acc: 0.9238     \n",
      "Epoch 78/100\n",
      "827/827 [==============================] - 1s - loss: 1.3284 - acc: 0.9250     \n",
      "Epoch 79/100\n",
      "827/827 [==============================] - 1s - loss: 1.3220 - acc: 0.9238     \n",
      "Epoch 80/100\n",
      "827/827 [==============================] - 1s - loss: 1.3179 - acc: 0.9238     \n",
      "Epoch 81/100\n",
      "827/827 [==============================] - 1s - loss: 1.3100 - acc: 0.9226     \n",
      "Epoch 82/100\n",
      "827/827 [==============================] - 1s - loss: 1.3051 - acc: 0.9238     \n",
      "Epoch 83/100\n",
      "827/827 [==============================] - 1s - loss: 1.2986 - acc: 0.9238     \n",
      "Epoch 84/100\n",
      "827/827 [==============================] - 1s - loss: 1.2939 - acc: 0.9250     \n",
      "Epoch 85/100\n",
      "827/827 [==============================] - 1s - loss: 1.2871 - acc: 0.9250     \n",
      "Epoch 86/100\n",
      "827/827 [==============================] - 1s - loss: 1.2821 - acc: 0.9226     \n",
      "Epoch 87/100\n",
      "827/827 [==============================] - 1s - loss: 1.2765 - acc: 0.9250     \n",
      "Epoch 88/100\n",
      "827/827 [==============================] - 1s - loss: 1.2722 - acc: 0.9250     \n",
      "Epoch 89/100\n"
     ]
    },
    {
     "name": "stdout",
     "output_type": "stream",
     "text": [
      "827/827 [==============================] - 1s - loss: 1.2685 - acc: 0.9238     \n",
      "Epoch 90/100\n",
      "827/827 [==============================] - 1s - loss: 1.2656 - acc: 0.9250     \n",
      "Epoch 91/100\n",
      "827/827 [==============================] - 1s - loss: 1.2591 - acc: 0.9238     \n",
      "Epoch 92/100\n",
      "827/827 [==============================] - 1s - loss: 1.2530 - acc: 0.9238     \n",
      "Epoch 93/100\n",
      "827/827 [==============================] - 1s - loss: 1.2495 - acc: 0.9238     \n",
      "Epoch 94/100\n",
      "827/827 [==============================] - 1s - loss: 1.2482 - acc: 0.9250     \n",
      "Epoch 95/100\n",
      "827/827 [==============================] - 1s - loss: 1.2420 - acc: 0.9226     \n",
      "Epoch 96/100\n",
      "827/827 [==============================] - 1s - loss: 1.2358 - acc: 0.9226     \n",
      "Epoch 97/100\n",
      "827/827 [==============================] - 1s - loss: 1.2335 - acc: 0.9250     \n",
      "Epoch 98/100\n",
      "827/827 [==============================] - 1s - loss: 1.2298 - acc: 0.9238     \n",
      "Epoch 99/100\n",
      "827/827 [==============================] - 1s - loss: 1.2252 - acc: 0.9238     \n",
      "Epoch 100/100\n",
      "827/827 [==============================] - 0s - loss: 1.2217 - acc: 0.9238     \n"
     ]
    },
    {
     "data": {
      "text/plain": [
       "<keras.callbacks.History at 0x21b5d0f10>"
      ]
     },
     "execution_count": 255,
     "metadata": {},
     "output_type": "execute_result"
    }
   ],
   "source": [
    "model.fit(x_r, y_train, epochs=100, batch_size=64,verbose=1)"
   ]
  },
  {
   "cell_type": "code",
   "execution_count": 256,
   "metadata": {},
   "outputs": [],
   "source": [
    "Y_test=model.predict(xt_r)"
   ]
  },
  {
   "cell_type": "code",
   "execution_count": 257,
   "metadata": {},
   "outputs": [
    {
     "name": "stdout",
     "output_type": "stream",
     "text": [
      "320/335 [===========================>..] - ETA: 0s('Model metrics: ', ['loss', 'acc'])\n",
      "('TEST ACCURACY: ', 0.9134328363546684)\n"
     ]
    }
   ],
   "source": [
    "score = model.evaluate(xt_r, y_test, batch_size=64)\n",
    "print(\"Model metrics: \",model.metrics_names)\n",
    "print(\"TEST ACCURACY: \", score[1])"
   ]
  },
  {
   "cell_type": "code",
   "execution_count": 258,
   "metadata": {},
   "outputs": [
    {
     "data": {
      "text/plain": [
       "[1.2967772747153667, 0.9134328363546684]"
      ]
     },
     "execution_count": 258,
     "metadata": {},
     "output_type": "execute_result"
    }
   ],
   "source": [
    "score"
   ]
  },
  {
   "cell_type": "markdown",
   "metadata": {},
   "source": [
    "**Results Summary:**\n",
    "_Provide a brief summary of results obtained like model accuracy & other insights based on EDA & your interpretations_\n",
    "\n",
    "Key problems that I tackeled were:\n",
    "1. Data was very unorganized and random, understanding it, preprocessing it and organizing it took a bit of effort.\n",
    "2. Embeddings played an important role, how to use them to predict the class was something to be thought upon.\n",
    "3. Extacted important features from the data and removed the redundant features on my own.\n",
    "4. Major problem was the missing data and some words not being present in the vocabulary of word model. Missing data started to give me nan loss from the first iteration. For missing data, I aim to go throught this paper: http://citeseerx.ist.psu.edu/viewdoc/summary?doi=10.1.1.23.6971 . As of now, I returned a very small sentence vector if data is missing.\n",
    "5. I was planing to use universal sentence encoder but that was too big for me to download at my home, as of now, I just used word2vec embeddings and averaged out the embeddings for a sentence.\n",
    "6. Instead of using random small vector, incorporate an unknown vector.\n",
    "7. Since emebddings are already normalized, I did not really normalized the training data.\n",
    "\n",
    "1. Got testing accuracy to be around 91.3 % which is on 335 samples and I used 827 samples in total to train the model.\n",
    "2. Loss is around 1.3 on test data. Used softmax in last layer.\n",
    "3. From the distribution of classes, it it trivial that there are flaws in the dataset, i.e., we need more data for certain classes, if we could arrange that, we can increase the accuracy on out test data."
   ]
  },
  {
   "cell_type": "code",
   "execution_count": null,
   "metadata": {},
   "outputs": [],
   "source": []
  }
 ],
 "metadata": {
  "kernelspec": {
   "display_name": "deeplearningproject",
   "language": "python",
   "name": "deeplearningproject"
  },
  "language_info": {
   "codemirror_mode": {
    "name": "ipython",
    "version": 2
   },
   "file_extension": ".py",
   "mimetype": "text/x-python",
   "name": "python",
   "nbconvert_exporter": "python",
   "pygments_lexer": "ipython2",
   "version": "2.7.13"
  }
 },
 "nbformat": 4,
 "nbformat_minor": 2
}
